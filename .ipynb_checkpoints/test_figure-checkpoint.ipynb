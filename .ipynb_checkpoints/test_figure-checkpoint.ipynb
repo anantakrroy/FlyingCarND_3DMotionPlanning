{
 "cells": [
  {
   "cell_type": "code",
   "execution_count": 1,
   "metadata": {},
   "outputs": [],
   "source": [
    "import argparse\n",
    "import time\n",
    "import msgpack\n",
    "from enum import Enum, auto\n",
    "\n",
    "import numpy as np\n",
    "from numpy import genfromtxt\n",
    "\n",
    "from planning_utils import a_star, heuristic, create_grid\n",
    "from udacidrone import Drone\n",
    "from udacidrone.connection import MavlinkConnection\n",
    "from udacidrone.messaging import MsgID\n",
    "from udacidrone.frame_utils import global_to_local, local_to_global\n",
    "\n",
    "\n",
    "import matplotlib.pyplot as plt\n",
    "\n",
    "%matplotlib inline"
   ]
  },
  {
   "cell_type": "code",
   "execution_count": 2,
   "metadata": {},
   "outputs": [],
   "source": [
    "class States(Enum):\n",
    "    MANUAL = auto()\n",
    "    ARMING = auto()\n",
    "    TAKEOFF = auto()\n",
    "    WAYPOINT = auto()\n",
    "    LANDING = auto()\n",
    "    DISARMING = auto()\n",
    "    PLANNING = auto()\n"
   ]
  },
  {
   "cell_type": "code",
   "execution_count": 3,
   "metadata": {},
   "outputs": [],
   "source": [
    "class MotionPlanning(Drone):\n",
    "\n",
    "    def __init__(self, connection):\n",
    "        super().__init__(connection)\n",
    "\n",
    "        self.target_position = np.array([0.0, 0.0, 0.0])\n",
    "        self.waypoints = []\n",
    "        self.in_mission = True\n",
    "        self.check_state = {}\n",
    "\n",
    "        # initial state\n",
    "        self.flight_state = States.MANUAL\n",
    "\n",
    "        # register all your callbacks here\n",
    "        self.register_callback(MsgID.LOCAL_POSITION, self.local_position_callback)\n",
    "        self.register_callback(MsgID.LOCAL_VELOCITY, self.velocity_callback)\n",
    "        self.register_callback(MsgID.STATE, self.state_callback)\n",
    "\n",
    "    def local_position_callback(self):\n",
    "        if self.flight_state == States.TAKEOFF:\n",
    "            if -1.0 * self.local_position[2] > 0.95 * self.target_position[2]:\n",
    "                self.waypoint_transition()\n",
    "        elif self.flight_state == States.WAYPOINT:\n",
    "            if np.linalg.norm(self.target_position[0:2] - self.local_position[0:2]) < 1.0:\n",
    "                if len(self.waypoints) > 0:\n",
    "                    self.waypoint_transition()\n",
    "                else:\n",
    "                    if np.linalg.norm(self.local_velocity[0:2]) < 1.0:\n",
    "                        self.landing_transition()\n",
    "\n",
    "    def velocity_callback(self):\n",
    "        if self.flight_state == States.LANDING:\n",
    "            if self.global_position[2] - self.global_home[2] < 0.1:\n",
    "                if abs(self.local_position[2]) < 0.01:\n",
    "                    self.disarming_transition()\n",
    "\n",
    "    def state_callback(self):\n",
    "        if self.in_mission:\n",
    "            if self.flight_state == States.MANUAL:\n",
    "                self.arming_transition()\n",
    "            elif self.flight_state == States.ARMING:\n",
    "                if self.armed:\n",
    "                    self.plan_path()\n",
    "            elif self.flight_state == States.PLANNING:\n",
    "                self.takeoff_transition()\n",
    "            elif self.flight_state == States.DISARMING:\n",
    "                if ~self.armed & ~self.guided:\n",
    "                    self.manual_transition()\n",
    "\n",
    "    def arming_transition(self):\n",
    "        self.flight_state = States.ARMING\n",
    "        print(\"arming transition\")\n",
    "        self.arm()\n",
    "        self.take_control()\n",
    "\n",
    "    def takeoff_transition(self):\n",
    "        self.flight_state = States.TAKEOFF\n",
    "        print(\"takeoff transition\")\n",
    "        self.takeoff(self.target_position[2])\n",
    "\n",
    "    def waypoint_transition(self):\n",
    "        self.flight_state = States.WAYPOINT\n",
    "        print(\"waypoint transition\")\n",
    "        self.target_position = self.waypoints.pop(0)\n",
    "        print('target position', self.target_position)\n",
    "        self.cmd_position(self.target_position[0], self.target_position[1], self.target_position[2], self.target_position[3])\n",
    "\n",
    "    def landing_transition(self):\n",
    "        self.flight_state = States.LANDING\n",
    "        print(\"landing transition\")\n",
    "        self.land()\n",
    "\n",
    "    def disarming_transition(self):\n",
    "        self.flight_state = States.DISARMING\n",
    "        print(\"disarm transition\")\n",
    "        self.disarm()\n",
    "        self.release_control()\n",
    "\n",
    "    def manual_transition(self):\n",
    "        self.flight_state = States.MANUAL\n",
    "        print(\"manual transition\")\n",
    "        self.stop()\n",
    "        self.in_mission = False\n",
    "\n",
    "    def send_waypoints(self):\n",
    "        print(\"Sending waypoints to simulator ...\")\n",
    "        data = msgpack.dumps(self.waypoints)\n",
    "        self.connection._master.write(data)\n",
    "        \n",
    "    def global_to_local(global_position, global_home):\n",
    "        \"\"\"\n",
    "        Convert a global position (lon, lat, up) to a local position (north, east, down) relative to the home position.\n",
    "        Returns:\n",
    "            numpy array of the local position [north, east, down]\n",
    "        \"\"\"\n",
    "        (east_home, north_home, _, _) = utm.from_latlon(global_home[1], global_home[0])\n",
    "        (east, north, _, _) = utm.from_latlon(global_position[1], global_position[0])\n",
    "\n",
    "        local_position = np.array([north - north_home, east - east_home, -global_position[2]])\n",
    "        return local_position\n",
    "        \n",
    "    def figPlot(grid, start, callback_function):\n",
    "        grid_image = plt.imshow(grid, picker = True)\n",
    "        plt.rcParams[\"figure.figsize\"] = [12,12]\n",
    "        plt.imshow(grid,origin='lower')\n",
    "        plt.xlabel('East')\n",
    "        plt.ylabel('North')\n",
    "        plt.scatter(start[1], start[0], marker = \"S\", color = \"green\")\n",
    "        fig = plt.gcf()\n",
    "        fig.colorbar(grid_image)\n",
    "        fig.canvas.mpl_connect('pick_event', goalPicker)\n",
    "        plt.gca().set_title(\"Pickup the goal on the map\\n(close the figure to continue)\", fontsize=16)\n",
    "        plt.show()\n",
    "        \n",
    "    #def goalPicker(self, event):\n",
    "     #   east = int(event.mouseevent.xdata)\n",
    "      # self.goal = local_to_global(,self.global_home)\n",
    "       # grid = plan_path()\n",
    "        #fig = figPlot(grid)\n",
    "      #  global ix, iy\n",
    "       # ix, iy = event.xdata, event.ydata\n",
    "       # print('x = %d, y = %d'%(ix, iy))\n",
    "       # global coords\n",
    "       # coords.append((ix, iy))\n",
    "       # cid = fig.canvas.mpl_connect('button_press_event', onclick)\n",
    "        \n",
    "    \n",
    "    def plan_path(self):\n",
    "        self.flight_state = States.PLANNING\n",
    "        print(\"Searching for a path ...\")\n",
    "        TARGET_ALTITUDE = 5\n",
    "        SAFETY_DISTANCE = 5\n",
    "\n",
    "        self.target_position[2] = TARGET_ALTITUDE\n",
    "\n",
    "        # TODO: read lat0, lon0 from colliders into floating point values\n",
    "        file = open('colliders.csv', 'r')\n",
    "\n",
    "        firstLine = file.readline()\n",
    "\n",
    "        lat0, lon0 = firstLine.split(',')\n",
    "        \n",
    "        lat0 = lat0.strip('lat0 ')\n",
    "        \n",
    "        lon0 = lon0.strip('lon0 ')\n",
    "        \n",
    "        # TODO: set home position to (lon0, lat0, 0)\n",
    "        global_home = self.set_home_position(lon0,lat0,0.0)\n",
    "        \n",
    "        # TODO: retrieve current global position\n",
    "        global_position = [self._longitude, self._latitude, self._altitude]\n",
    " \n",
    "        # TODO: convert to current local position using global_to_local()\n",
    "        local_position = global_to_local(self.global_position, self.global_home)\n",
    "        \n",
    "        print('global home {0}, position {1}, local position {2}'.format(self.global_home, self.global_position,\n",
    "                                                                         self.local_position))\n",
    "        # Read in obstacle map\n",
    "        data = np.loadtxt('colliders.csv', delimiter=',', dtype='Float64', skiprows=2)\n",
    "        \n",
    "        # Define a grid for a particular altitude and safety margin around obstacles\n",
    "        grid, north_offset, east_offset = create_grid(data, TARGET_ALTITUDE, SAFETY_DISTANCE)\n",
    "        print(\"North offset = {0}, east offset = {1}\".format(north_offset, east_offset))\n",
    "        \n",
    "        \n",
    "        # Define starting point on the grid (this is just grid center)\n",
    "        #grid_start = (-north_offset, -east_offset)\n",
    "        # TODO: convert start position to current position rather than map center\n",
    "        grid_start = (local_position[0] - north_offset, local_position[1] - east_offset)\n",
    "        \n",
    "        # Set goal as some arbitrary position on the grid\n",
    "        #grid_goal = (-north_offset + 10, -east_offset + 10)\n",
    "        # TODO: adapt to set goal as latitude / longitude position and convert\n",
    "            \n",
    "        #check if the chosen random goal is an obstacle\n",
    "        isGoalObstacle = False\n",
    "        while isGoalObstacle:\n",
    "            #choosing a random goal by using uniform distribution\n",
    "            randomNum = 300\n",
    "        \n",
    "            #global coordinates in lon, lat, altitude format\n",
    "            random_goal = local_to_global([self.local_position[0] + np.random.uniform(-randomNum, randomNum),\n",
    "                                       self.local_position[1] + np.random.uniform(-randomNum, randomNum), 0], global_home)\n",
    "            \n",
    "            #convert to local coordinates\n",
    "            grid_goal = random_goal\n",
    "            grid_goal = global_to_local(self.grid_goal, self.global_home)\n",
    "            \n",
    "            isGoalObstacle = grid[grid_goal[0]][grid_goal[1]] = 1\n",
    "        \n",
    "        # Run A* to find a path from start to goal\n",
    "        # TODO: add diagonal motions with a cost of sqrt(2) to your A* implementation\n",
    "        # or move to a different search space such as a graph (not done here)\n",
    "        print('Local Start and Goal: ', grid_start, grid_goal)\n",
    "        path, _ = a_star(grid, heuristic, grid_start, grid_goal)\n",
    "        \n",
    "        # TODO: prune path to minimize number of waypoints\n",
    "        # TODO (if you're feeling ambitious): Try a different approach altogether!\n",
    "\n",
    "        # Convert path to waypoints\n",
    "        waypoints = [[p[0] + north_offset, p[1] + east_offset, TARGET_ALTITUDE, 0] for p in path]\n",
    "        # Set self.waypoints\n",
    "        self.waypoints = waypoints\n",
    "        # TODO: send waypoints to sim\n",
    "        self.send_waypoints()\n",
    "        return grid\n",
    "\n",
    "    def start(self):\n",
    "        self.start_log(\"Logs\", \"NavLog.txt\")\n",
    "\n",
    "        print(\"starting connection\")\n",
    "        self.connection.start()\n",
    "\n",
    "        # Only required if they do threaded\n",
    "        # while self.in_mission:\n",
    "        #    pass\n",
    "\n",
    "        self.stop_log()\n"
   ]
  },
  {
   "cell_type": "code",
   "execution_count": 4,
   "metadata": {},
   "outputs": [],
   "source": [
    "if __name__ == \"__main__\":\n",
    "    parser = argparse.ArgumentParser()"
   ]
  },
  {
   "cell_type": "code",
   "execution_count": 5,
   "metadata": {},
   "outputs": [
    {
     "data": {
      "text/plain": [
       "_StoreAction(option_strings=['--port'], dest='port', nargs=None, const=None, default=5760, type=<class 'int'>, choices=None, help='Port number', metavar=None)"
      ]
     },
     "execution_count": 5,
     "metadata": {},
     "output_type": "execute_result"
    }
   ],
   "source": [
    "parser.add_argument('--port', type=int, default=5760, help='Port number')"
   ]
  },
  {
   "cell_type": "code",
   "execution_count": 6,
   "metadata": {},
   "outputs": [
    {
     "data": {
      "text/plain": [
       "_StoreAction(option_strings=['--host'], dest='host', nargs=None, const=None, default='127.0.0.1', type=<class 'str'>, choices=None, help=\"host address, i.e. '127.0.0.1'\", metavar=None)"
      ]
     },
     "execution_count": 6,
     "metadata": {},
     "output_type": "execute_result"
    }
   ],
   "source": [
    "parser.add_argument('--host', type=str, default='127.0.0.1', help=\"host address, i.e. '127.0.0.1'\")"
   ]
  },
  {
   "cell_type": "code",
   "execution_count": 7,
   "metadata": {},
   "outputs": [],
   "source": [
    "#args = parser.parse_args()"
   ]
  },
  {
   "cell_type": "code",
   "execution_count": 8,
   "metadata": {},
   "outputs": [
    {
     "name": "stderr",
     "output_type": "stream",
     "text": [
      "No traceback available to show.\n"
     ]
    }
   ],
   "source": [
    "%tb"
   ]
  },
  {
   "cell_type": "code",
   "execution_count": 9,
   "metadata": {},
   "outputs": [],
   "source": [
    "#conn = MavlinkConnection('tcp:127.0.0.1:5760', timeout=60)\n",
    "conn = MavlinkConnection('tcp:127.0.0.1:5760', timeout=60)"
   ]
  },
  {
   "cell_type": "code",
   "execution_count": 10,
   "metadata": {},
   "outputs": [
    {
     "name": "stdout",
     "output_type": "stream",
     "text": [
      "Logs/TLog.txt\n"
     ]
    }
   ],
   "source": [
    "drone = MotionPlanning(conn)"
   ]
  },
  {
   "cell_type": "code",
   "execution_count": 11,
   "metadata": {},
   "outputs": [],
   "source": [
    "time.sleep(1)"
   ]
  },
  {
   "cell_type": "code",
   "execution_count": 12,
   "metadata": {},
   "outputs": [
    {
     "name": "stdout",
     "output_type": "stream",
     "text": [
      "Logs/NavLog.txt\n",
      "starting connection\n",
      "arming transition\n",
      "Searching for a path ...\n",
      "global home [-122.39745   37.79248    0.     ], position [-122.3974502   37.7924793    0.225    ], local position [-0.0753969  -0.02631676 -0.22546606]\n",
      "North offset = -316, east offset = -445\n"
     ]
    },
    {
     "name": "stderr",
     "output_type": "stream",
     "text": [
      "Traceback (most recent call last):\n",
      "  File \"/Users/anantakumarroy/miniconda3/envs/fcnd/lib/python3.6/site-packages/udacidrone/drone.py\", line 414, in set_home_position\n",
      "    self.connection.set_home_position(latitude, longitude, altitude)\n",
      "  File \"/Users/anantakumarroy/miniconda3/envs/fcnd/lib/python3.6/site-packages/udacidrone/connection/mavlink_connection.py\", line 378, in set_home_position\n",
      "    self.send_long_command(mavutil.mavlink.MAV_CMD_DO_SET_HOME, 0, 0, 0, 0, lat, lon, alt)\n",
      "  File \"/Users/anantakumarroy/miniconda3/envs/fcnd/lib/python3.6/site-packages/udacidrone/connection/mavlink_connection.py\", line 279, in send_long_command\n",
      "    self.send_message(msg)\n",
      "  File \"/Users/anantakumarroy/miniconda3/envs/fcnd/lib/python3.6/site-packages/udacidrone/connection/mavlink_connection.py\", line 260, in send_message\n",
      "    self._master.mav.send(msg)\n",
      "  File \"/Users/anantakumarroy/miniconda3/envs/fcnd/lib/python3.6/site-packages/pymavlink/dialects/v20/ardupilotmega.py\", line 10661, in send\n",
      "    buf = mavmsg.pack(self, force_mavlink1=force_mavlink1)\n",
      "  File \"/Users/anantakumarroy/miniconda3/envs/fcnd/lib/python3.6/site-packages/pymavlink/dialects/v20/ardupilotmega.py\", line 7205, in pack\n",
      "    return MAVLink_message.pack(self, mav, 152, struct.pack('<fffffffHBBB', self.param1, self.param2, self.param3, self.param4, self.param5, self.param6, self.param7, self.command, self.target_system, self.target_component, self.confirmation), force_mavlink1=force_mavlink1)\n",
      "struct.error: required argument is not a float\n",
      "Traceback (most recent call last):\n",
      "  File \"/Users/anantakumarroy/miniconda3/envs/fcnd/lib/python3.6/site-packages/udacidrone/drone.py\", line 277, in notify_callbacks\n",
      "    fn()\n",
      "  File \"<ipython-input-3-45e0c55d8f3b>\", line 43, in state_callback\n",
      "    self.plan_path()\n",
      "  File \"<ipython-input-3-45e0c55d8f3b>\", line 194, in plan_path\n",
      "    print('Local Start and Goal: ', grid_start, grid_goal)\n",
      "UnboundLocalError: local variable 'grid_goal' referenced before assignment\n"
     ]
    },
    {
     "name": "stdout",
     "output_type": "stream",
     "text": [
      "takeoff transition\n",
      "waypoint transition\n"
     ]
    },
    {
     "name": "stderr",
     "output_type": "stream",
     "text": [
      "Traceback (most recent call last):\n",
      "  File \"/Users/anantakumarroy/miniconda3/envs/fcnd/lib/python3.6/site-packages/udacidrone/drone.py\", line 277, in notify_callbacks\n",
      "    fn()\n",
      "  File \"<ipython-input-3-45e0c55d8f3b>\", line 22, in local_position_callback\n",
      "    self.waypoint_transition()\n",
      "  File \"<ipython-input-3-45e0c55d8f3b>\", line 64, in waypoint_transition\n",
      "    self.target_position = self.waypoints.pop(0)\n",
      "IndexError: pop from empty list\n"
     ]
    },
    {
     "name": "stdout",
     "output_type": "stream",
     "text": [
      "landing transition\n",
      "disarm transition\n",
      "manual transition\n",
      "Closing connection ...\n"
     ]
    }
   ],
   "source": [
    "drone.start()"
   ]
  },
  {
   "cell_type": "code",
   "execution_count": null,
   "metadata": {},
   "outputs": [],
   "source": []
  },
  {
   "cell_type": "code",
   "execution_count": null,
   "metadata": {},
   "outputs": [],
   "source": [
    "\n"
   ]
  },
  {
   "cell_type": "code",
   "execution_count": null,
   "metadata": {},
   "outputs": [],
   "source": []
  }
 ],
 "metadata": {
  "kernelspec": {
   "display_name": "Python 3",
   "language": "python",
   "name": "python3"
  },
  "language_info": {
   "codemirror_mode": {
    "name": "ipython",
    "version": 3
   },
   "file_extension": ".py",
   "mimetype": "text/x-python",
   "name": "python",
   "nbconvert_exporter": "python",
   "pygments_lexer": "ipython3",
   "version": "3.6.3"
  }
 },
 "nbformat": 4,
 "nbformat_minor": 2
}
