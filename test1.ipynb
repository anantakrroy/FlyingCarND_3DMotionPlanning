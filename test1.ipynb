{
 "cells": [
  {
   "cell_type": "code",
   "execution_count": 1,
   "metadata": {},
   "outputs": [],
   "source": [
    "from enum import Enum\n",
    "from queue import PriorityQueue\n",
    "import numpy as np\n",
    "\n",
    "\n",
    "def create_grid(data, drone_altitude, safety_distance):\n",
    "    \"\"\"\n",
    "    Returns a grid representation of a 2D configuration space\n",
    "    based on given obstacle data, drone altitude and safety distance\n",
    "    arguments.\n",
    "    \"\"\"\n",
    "\n",
    "    # minimum and maximum north coordinates\n",
    "    north_min = np.floor(np.min(data[:, 0] - data[:, 3]))\n",
    "    north_max = np.ceil(np.max(data[:, 0] + data[:, 3]))\n",
    "\n",
    "    # minimum and maximum east coordinates\n",
    "    east_min = np.floor(np.min(data[:, 1] - data[:, 4]))\n",
    "    east_max = np.ceil(np.max(data[:, 1] + data[:, 4]))\n",
    "\n",
    "    # given the minimum and maximum coordinates we can\n",
    "    # calculate the size of the grid.\n",
    "    north_size = int(np.ceil(north_max - north_min))\n",
    "    east_size = int(np.ceil(east_max - east_min))\n",
    "\n",
    "    # Initialize an empty grid\n",
    "    grid = np.zeros((north_size, east_size))\n",
    "\n",
    "    # Populate the grid with obstacles\n",
    "    for i in range(data.shape[0]):\n",
    "        north, east, alt, d_north, d_east, d_alt = data[i, :]\n",
    "        if alt + d_alt + safety_distance > drone_altitude:\n",
    "            obstacle = [\n",
    "                int(np.clip(north - d_north - safety_distance - north_min, 0, north_size-1)),\n",
    "                int(np.clip(north + d_north + safety_distance - north_min, 0, north_size-1)),\n",
    "                int(np.clip(east - d_east - safety_distance - east_min, 0, east_size-1)),\n",
    "                int(np.clip(east + d_east + safety_distance - east_min, 0, east_size-1)),\n",
    "            ]\n",
    "            grid[obstacle[0]:obstacle[1]+1, obstacle[2]:obstacle[3]+1] = 1\n",
    "\n",
    "    return grid, int(north_min), int(east_min)"
   ]
  },
  {
   "cell_type": "code",
   "execution_count": 3,
   "metadata": {},
   "outputs": [],
   "source": [
    "file = np.loadtxt('colliders.csv', delimiter=',', dtype='Float64', skiprows=2)\n",
    "drone_altitude = 10\n",
    "drone_safety_distance = 7"
   ]
  },
  {
   "cell_type": "code",
   "execution_count": 4,
   "metadata": {},
   "outputs": [],
   "source": [
    "grid, north_offset, east_offset = create_grid(file, drone_altitude, drone_safety_distance)"
   ]
  },
  {
   "cell_type": "code",
   "execution_count": 5,
   "metadata": {},
   "outputs": [
    {
     "data": {
      "text/plain": [
       "array([[1., 1., 1., ..., 0., 0., 0.],\n",
       "       [1., 1., 1., ..., 0., 0., 0.],\n",
       "       [1., 1., 1., ..., 0., 0., 0.],\n",
       "       ...,\n",
       "       [0., 0., 0., ..., 0., 0., 0.],\n",
       "       [0., 0., 0., ..., 0., 0., 0.],\n",
       "       [0., 0., 0., ..., 0., 0., 0.]])"
      ]
     },
     "execution_count": 5,
     "metadata": {},
     "output_type": "execute_result"
    }
   ],
   "source": [
    "grid"
   ]
  },
  {
   "cell_type": "code",
   "execution_count": 12,
   "metadata": {},
   "outputs": [
    {
     "data": {
      "text/plain": [
       "(921, 921)"
      ]
     },
     "execution_count": 12,
     "metadata": {},
     "output_type": "execute_result"
    }
   ],
   "source": [
    "grid.shape"
   ]
  },
  {
   "cell_type": "code",
   "execution_count": null,
   "metadata": {},
   "outputs": [],
   "source": [
    "#grid a 921 by 921 array. \n",
    "#to check whether a randomly selected goal is an obstacle,\n",
    "#the grid value corresponding to an obstacle is equal to 1\n",
    "#So, we can get the indices of the grid goal coordinates(float) by converting to an int\n",
    "#And then checking whether or not the set of indices correspond to a value of 1 in the grid array"
   ]
  }
 ],
 "metadata": {
  "kernelspec": {
   "display_name": "Python 3",
   "language": "python",
   "name": "python3"
  },
  "language_info": {
   "codemirror_mode": {
    "name": "ipython",
    "version": 3
   },
   "file_extension": ".py",
   "mimetype": "text/x-python",
   "name": "python",
   "nbconvert_exporter": "python",
   "pygments_lexer": "ipython3",
   "version": "3.6.3"
  }
 },
 "nbformat": 4,
 "nbformat_minor": 2
}
