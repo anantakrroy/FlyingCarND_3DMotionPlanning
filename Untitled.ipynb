{
 "cells": [
  {
   "cell_type": "code",
   "execution_count": 1,
   "metadata": {
    "collapsed": true
   },
   "outputs": [],
   "source": [
    "import argparse\n",
    "import time\n",
    "import msgpack\n",
    "from enum import Enum, auto\n",
    "\n",
    "import numpy as np\n",
    "from numpy import genfromtxt\n",
    "\n",
    "from planning_utils import a_star, heuristic, create_grid\n",
    "from udacidrone import Drone\n",
    "from udacidrone.connection import MavlinkConnection\n",
    "from udacidrone.messaging import MsgID\n",
    "from udacidrone.frame_utils import global_to_local, local_to_global\n",
    "\n",
    "import matplotlib.pyplot as plt\n",
    "\n",
    "%matplotlib qt"
   ]
  },
  {
   "cell_type": "code",
   "execution_count": 3,
   "metadata": {},
   "outputs": [],
   "source": [
    "class States(Enum):\n",
    "    MANUAL = auto()\n",
    "    ARMING = auto()\n",
    "    TAKEOFF = auto()\n",
    "    WAYPOINT = auto()\n",
    "    LANDING = auto()\n",
    "    DISARMING = auto()\n",
    "    PLANNING = auto()\n"
   ]
  },
  {
   "cell_type": "code",
   "execution_count": 95,
   "metadata": {},
   "outputs": [],
   "source": [
    "class MotionPlanning(Drone):\n",
    "\n",
    "    def __init__(self, connection):\n",
    "        super().__init__(connection)\n",
    "\n",
    "        self.target_position = np.array([0.0, 0.0, 0.0])\n",
    "        self.waypoints = []\n",
    "        self.in_mission = True\n",
    "        self.check_state = {}\n",
    "\n",
    "        # initial state\n",
    "        self.flight_state = States.MANUAL\n",
    "\n",
    "        # register all your callbacks here\n",
    "        self.register_callback(MsgID.LOCAL_POSITION, self.local_position_callback)\n",
    "        self.register_callback(MsgID.LOCAL_VELOCITY, self.velocity_callback)\n",
    "        self.register_callback(MsgID.STATE, self.state_callback)\n",
    "\n",
    "    def local_position_callback(self):\n",
    "        if self.flight_state == States.TAKEOFF:\n",
    "            if -1.0 * self.local_position[2] > 0.95 * self.target_position[2]:\n",
    "                self.waypoint_transition()\n",
    "        elif self.flight_state == States.WAYPOINT:\n",
    "            if np.linalg.norm(self.target_position[0:2] - self.local_position[0:2]) < 1.0:\n",
    "                if len(self.waypoints) > 0:\n",
    "                    self.waypoint_transition()\n",
    "                else:\n",
    "                    if np.linalg.norm(self.local_velocity[0:2]) < 1.0:\n",
    "                        self.landing_transition()\n",
    "\n",
    "    def velocity_callback(self):\n",
    "        if self.flight_state == States.LANDING:\n",
    "            if self.global_position[2] - self.global_home[2] < 0.1:\n",
    "                if abs(self.local_position[2]) < 0.01:\n",
    "                    self.disarming_transition()\n",
    "\n",
    "    def state_callback(self):\n",
    "        if self.in_mission:\n",
    "            if self.flight_state == States.MANUAL:\n",
    "                self.arming_transition()\n",
    "            elif self.flight_state == States.ARMING:\n",
    "                if self.armed:\n",
    "                    self.plan_path()\n",
    "            elif self.flight_state == States.PLANNING:\n",
    "                self.takeoff_transition()\n",
    "            elif self.flight_state == States.DISARMING:\n",
    "                if ~self.armed & ~self.guided:\n",
    "                    self.manual_transition()\n",
    "\n",
    "    def arming_transition(self):\n",
    "        self.flight_state = States.ARMING\n",
    "        print(\"arming transition\")\n",
    "        self.arm()\n",
    "        self.take_control()\n",
    "\n",
    "    def takeoff_transition(self):\n",
    "        self.flight_state = States.TAKEOFF\n",
    "        print(\"takeoff transition\")\n",
    "        self.takeoff(self.target_position[2])\n",
    "\n",
    "    def waypoint_transition(self):\n",
    "        self.flight_state = States.WAYPOINT\n",
    "        print(\"waypoint transition\")\n",
    "        self.target_position = self.waypoints.pop(0)\n",
    "        print('target position', self.target_position)\n",
    "        self.cmd_position(self.target_position[0], self.target_position[1], self.target_position[2], self.target_position[3])\n",
    "\n",
    "    def landing_transition(self):\n",
    "        self.flight_state = States.LANDING\n",
    "        print(\"landing transition\")\n",
    "        self.land()\n",
    "\n",
    "    def disarming_transition(self):\n",
    "        self.flight_state = States.DISARMING\n",
    "        print(\"disarm transition\")\n",
    "        self.disarm()\n",
    "        self.release_control()\n",
    "\n",
    "    def manual_transition(self):\n",
    "        self.flight_state = States.MANUAL\n",
    "        print(\"manual transition\")\n",
    "        self.stop()\n",
    "        self.in_mission = False\n",
    "\n",
    "    def send_waypoints(self):\n",
    "        print(\"Sending waypoints to simulator ...\")\n",
    "        data = msgpack.dumps(self.waypoints)\n",
    "        self.connection._master.write(data)\n",
    "        \n",
    "    def global_to_local(global_position, global_home):\n",
    "        \"\"\"\n",
    "        Convert a global position (lon, lat, up) to a local position (north, east, down) relative to the home position.\n",
    "        Returns:\n",
    "            numpy array of the local position [north, east, down]\n",
    "        \"\"\"\n",
    "        (east_home, north_home, _, _) = utm.from_latlon(global_home[1], global_home[0])\n",
    "        (east, north, _, _) = utm.from_latlon(global_position[1], global_position[0])\n",
    "\n",
    "        local_position = np.array([north - north_home, east - east_home, -global_position[2]])\n",
    "        return local_position\n",
    "        \n",
    "    def figPlot(grid, start, callback_function):\n",
    "        grid_image = plt.imshow(grid, picker = True)\n",
    "        plt.rcParams[\"figure.figsize\"] = [12,12]\n",
    "        plt.imshow(grid,origin='lower')\n",
    "        plt.xlabel('East')\n",
    "        plt.ylabel('North')\n",
    "        plt.scatter(start[1], start[0], marker = \"S\", color = \"green\")\n",
    "        fig = plt.gcf()\n",
    "        fig.colorbar(grid_image)\n",
    "        fig.canvas.mpl_connect('pick_event', goalPicker)\n",
    "        plt.gca().set_title(\"Pickup the goal on the map\\n(close the figure to continue)\", fontsize=16)\n",
    "        plt.show()\n",
    "        \n",
    "    #def goalPicker(self, event):\n",
    "     #   east = int(event.mouseevent.xdata)\n",
    "      # self.goal = local_to_global(,self.global_home)\n",
    "       # grid = plan_path()\n",
    "        #fig = figPlot(grid)\n",
    "      #  global ix, iy\n",
    "       # ix, iy = event.xdata, event.ydata\n",
    "       # print('x = %d, y = %d'%(ix, iy))\n",
    "       # global coords\n",
    "       # coords.append((ix, iy))\n",
    "       # cid = fig.canvas.mpl_connect('button_press_event', onclick)\n",
    "        \n",
    "    \n",
    "    def plan_path(self):\n",
    "        self.flight_state = States.PLANNING\n",
    "        print(\"Searching for a path ...\")\n",
    "        TARGET_ALTITUDE = 5\n",
    "        SAFETY_DISTANCE = 5\n",
    "\n",
    "        self.target_position[2] = TARGET_ALTITUDE\n",
    "\n",
    "        # TODO: read lat0, lon0 from colliders into floating point values\n",
    "        file = open('colliders.csv', 'r')\n",
    "\n",
    "        firstLine = file.readline()\n",
    "\n",
    "        lat0, lon0 = firstLine.split(',')\n",
    "        \n",
    "        lat0 = lat0.strip('lat0 ')\n",
    "        \n",
    "        lon0 = lon0.strip('lon0 ')\n",
    "        \n",
    "        # TODO: set home position to (lon0, lat0, 0)\n",
    "        global_home = self.set_home_position(lon0,lat0,0.0)\n",
    "        \n",
    "        # TODO: retrieve current global position\n",
    "        global_position = [self._longitude, self._latitude, self._altitude]\n",
    " \n",
    "        # TODO: convert to current local position using global_to_local()\n",
    "        local_position = global_to_local(self.global_position, self.global_home)\n",
    "        \n",
    "        print('global home {0}, position {1}, local position {2}'.format(self.global_home, self.global_position,\n",
    "                                                                         self.local_position))\n",
    "        # Read in obstacle map\n",
    "        data = np.loadtxt('colliders.csv', delimiter=',', dtype='Float64', skiprows=2)\n",
    "        \n",
    "        # Define a grid for a particular altitude and safety margin around obstacles\n",
    "        grid, north_offset, east_offset = create_grid(data, TARGET_ALTITUDE, SAFETY_DISTANCE)\n",
    "        print(\"North offset = {0}, east offset = {1}\".format(north_offset, east_offset))\n",
    "        \n",
    "        \n",
    "        # Define starting point on the grid (this is just grid center)\n",
    "        #grid_start = (-north_offset, -east_offset)\n",
    "        # TODO: convert start position to current position rather than map center\n",
    "        grid_start = (local_position[0] - north_offset, local_position[1] - east_offset)\n",
    "        \n",
    "        # Set goal as some arbitrary position on the grid\n",
    "        #grid_goal = (-north_offset + 10, -east_offset + 10)\n",
    "        # TODO: adapt to set goal as latitude / longitude position and convert\n",
    "        \n",
    "        #choosing a random goal by using uniform distribution\n",
    "        randomNum = 300\n",
    "        \n",
    "        #global coordinates in lon, lat, altitude format\n",
    "        random_goal = local_to_global([self.local_position[0] + np.random.uniform(-randomNum, randomNum),\n",
    "                                       self.local_position[1] + np.random.uniform(-randomNum, randomNum), 0], global_home)\n",
    "        \n",
    "        #convert to local coordinates\n",
    "        grid_goal = random_goal\n",
    "        grid_goal = global_to_local(self.grid_goal, self.global_home)\n",
    "        \n",
    "        # Run A* to find a path from start to goal\n",
    "        # TODO: add diagonal motions with a cost of sqrt(2) to your A* implementation\n",
    "        # or move to a different search space such as a graph (not done here)\n",
    "        print('Local Start and Goal: ', grid_start, grid_goal)\n",
    "        path, _ = a_star(grid, heuristic, grid_start, grid_goal)\n",
    "        \n",
    "        # TODO: prune path to minimize number of waypoints\n",
    "        # TODO (if you're feeling ambitious): Try a different approach altogether!\n",
    "\n",
    "        # Convert path to waypoints\n",
    "        waypoints = [[p[0] + north_offset, p[1] + east_offset, TARGET_ALTITUDE, 0] for p in path]\n",
    "        # Set self.waypoints\n",
    "        self.waypoints = waypoints\n",
    "        # TODO: send waypoints to sim\n",
    "        self.send_waypoints()\n",
    "        return grid\n",
    "\n",
    "    def start(self):\n",
    "        self.start_log(\"Logs\", \"NavLog.txt\")\n",
    "\n",
    "        print(\"starting connection\")\n",
    "        self.connection.start()\n",
    "\n",
    "        # Only required if they do threaded\n",
    "        # while self.in_mission:\n",
    "        #    pass\n",
    "\n",
    "        self.stop_log()\n"
   ]
  },
  {
   "cell_type": "code",
   "execution_count": 96,
   "metadata": {},
   "outputs": [],
   "source": [
    "if __name__ == \"__main__\":\n",
    "    parser = argparse.ArgumentParser()"
   ]
  },
  {
   "cell_type": "code",
   "execution_count": 97,
   "metadata": {},
   "outputs": [
    {
     "data": {
      "text/plain": [
       "_StoreAction(option_strings=['--port'], dest='port', nargs=None, const=None, default=5760, type=<class 'int'>, choices=None, help='Port number', metavar=None)"
      ]
     },
     "execution_count": 97,
     "metadata": {},
     "output_type": "execute_result"
    }
   ],
   "source": [
    "parser.add_argument('--port', type=int, default=5760, help='Port number')"
   ]
  },
  {
   "cell_type": "code",
   "execution_count": 98,
   "metadata": {},
   "outputs": [
    {
     "data": {
      "text/plain": [
       "_StoreAction(option_strings=['--host'], dest='host', nargs=None, const=None, default='127.0.0.1', type=<class 'str'>, choices=None, help=\"host address, i.e. '127.0.0.1'\", metavar=None)"
      ]
     },
     "execution_count": 98,
     "metadata": {},
     "output_type": "execute_result"
    }
   ],
   "source": [
    "parser.add_argument('--host', type=str, default='127.0.0.1', help=\"host address, i.e. '127.0.0.1'\")"
   ]
  },
  {
   "cell_type": "code",
   "execution_count": 99,
   "metadata": {},
   "outputs": [
    {
     "name": "stderr",
     "output_type": "stream",
     "text": [
      "usage: ipykernel_launcher.py [-h] [--port PORT] [--host HOST]\n",
      "ipykernel_launcher.py: error: unrecognized arguments: -f /Users/anantakumarroy/Library/Jupyter/runtime/kernel-aeb5169d-045c-4ddf-9057-779259e37530.json\n"
     ]
    },
    {
     "ename": "SystemExit",
     "evalue": "2",
     "output_type": "error",
     "traceback": [
      "An exception has occurred, use %tb to see the full traceback.\n",
      "\u001b[0;31mSystemExit\u001b[0m\u001b[0;31m:\u001b[0m 2\n"
     ]
    },
    {
     "name": "stderr",
     "output_type": "stream",
     "text": [
      "/Users/anantakumarroy/miniconda3/envs/fcnd/lib/python3.6/site-packages/IPython/core/interactiveshell.py:2918: UserWarning: To exit: use 'exit', 'quit', or Ctrl-D.\n",
      "  warn(\"To exit: use 'exit', 'quit', or Ctrl-D.\", stacklevel=1)\n"
     ]
    }
   ],
   "source": [
    "args = parser.parse_args()"
   ]
  },
  {
   "cell_type": "code",
   "execution_count": 100,
   "metadata": {},
   "outputs": [
    {
     "ename": "SystemExit",
     "evalue": "2",
     "output_type": "error",
     "traceback": [
      "\u001b[0;31m---------------------------------------------------------------------------\u001b[0m",
      "\u001b[0;31mSystemExit\u001b[0m                                Traceback (most recent call last)",
      "\u001b[0;32m<ipython-input-99-a812032b6458>\u001b[0m in \u001b[0;36m<module>\u001b[0;34m()\u001b[0m\n\u001b[0;32m----> 1\u001b[0;31m \u001b[0margs\u001b[0m \u001b[0;34m=\u001b[0m \u001b[0mparser\u001b[0m\u001b[0;34m.\u001b[0m\u001b[0mparse_args\u001b[0m\u001b[0;34m(\u001b[0m\u001b[0;34m)\u001b[0m\u001b[0;34m\u001b[0m\u001b[0m\n\u001b[0m",
      "\u001b[0;32m~/miniconda3/envs/fcnd/lib/python3.6/argparse.py\u001b[0m in \u001b[0;36mparse_args\u001b[0;34m(self, args, namespace)\u001b[0m\n\u001b[1;32m   1731\u001b[0m         \u001b[0;32mif\u001b[0m \u001b[0margv\u001b[0m\u001b[0;34m:\u001b[0m\u001b[0;34m\u001b[0m\u001b[0m\n\u001b[1;32m   1732\u001b[0m             \u001b[0mmsg\u001b[0m \u001b[0;34m=\u001b[0m \u001b[0m_\u001b[0m\u001b[0;34m(\u001b[0m\u001b[0;34m'unrecognized arguments: %s'\u001b[0m\u001b[0;34m)\u001b[0m\u001b[0;34m\u001b[0m\u001b[0m\n\u001b[0;32m-> 1733\u001b[0;31m             \u001b[0mself\u001b[0m\u001b[0;34m.\u001b[0m\u001b[0merror\u001b[0m\u001b[0;34m(\u001b[0m\u001b[0mmsg\u001b[0m \u001b[0;34m%\u001b[0m \u001b[0;34m' '\u001b[0m\u001b[0;34m.\u001b[0m\u001b[0mjoin\u001b[0m\u001b[0;34m(\u001b[0m\u001b[0margv\u001b[0m\u001b[0;34m)\u001b[0m\u001b[0;34m)\u001b[0m\u001b[0;34m\u001b[0m\u001b[0m\n\u001b[0m\u001b[1;32m   1734\u001b[0m         \u001b[0;32mreturn\u001b[0m \u001b[0margs\u001b[0m\u001b[0;34m\u001b[0m\u001b[0m\n\u001b[1;32m   1735\u001b[0m \u001b[0;34m\u001b[0m\u001b[0m\n",
      "\u001b[0;32m~/miniconda3/envs/fcnd/lib/python3.6/argparse.py\u001b[0m in \u001b[0;36merror\u001b[0;34m(self, message)\u001b[0m\n\u001b[1;32m   2387\u001b[0m         \u001b[0mself\u001b[0m\u001b[0;34m.\u001b[0m\u001b[0mprint_usage\u001b[0m\u001b[0;34m(\u001b[0m\u001b[0m_sys\u001b[0m\u001b[0;34m.\u001b[0m\u001b[0mstderr\u001b[0m\u001b[0;34m)\u001b[0m\u001b[0;34m\u001b[0m\u001b[0m\n\u001b[1;32m   2388\u001b[0m         \u001b[0margs\u001b[0m \u001b[0;34m=\u001b[0m \u001b[0;34m{\u001b[0m\u001b[0;34m'prog'\u001b[0m\u001b[0;34m:\u001b[0m \u001b[0mself\u001b[0m\u001b[0;34m.\u001b[0m\u001b[0mprog\u001b[0m\u001b[0;34m,\u001b[0m \u001b[0;34m'message'\u001b[0m\u001b[0;34m:\u001b[0m \u001b[0mmessage\u001b[0m\u001b[0;34m}\u001b[0m\u001b[0;34m\u001b[0m\u001b[0m\n\u001b[0;32m-> 2389\u001b[0;31m         \u001b[0mself\u001b[0m\u001b[0;34m.\u001b[0m\u001b[0mexit\u001b[0m\u001b[0;34m(\u001b[0m\u001b[0;36m2\u001b[0m\u001b[0;34m,\u001b[0m \u001b[0m_\u001b[0m\u001b[0;34m(\u001b[0m\u001b[0;34m'%(prog)s: error: %(message)s\\n'\u001b[0m\u001b[0;34m)\u001b[0m \u001b[0;34m%\u001b[0m \u001b[0margs\u001b[0m\u001b[0;34m)\u001b[0m\u001b[0;34m\u001b[0m\u001b[0m\n\u001b[0m",
      "\u001b[0;32m~/miniconda3/envs/fcnd/lib/python3.6/argparse.py\u001b[0m in \u001b[0;36mexit\u001b[0;34m(self, status, message)\u001b[0m\n\u001b[1;32m   2374\u001b[0m         \u001b[0;32mif\u001b[0m \u001b[0mmessage\u001b[0m\u001b[0;34m:\u001b[0m\u001b[0;34m\u001b[0m\u001b[0m\n\u001b[1;32m   2375\u001b[0m             \u001b[0mself\u001b[0m\u001b[0;34m.\u001b[0m\u001b[0m_print_message\u001b[0m\u001b[0;34m(\u001b[0m\u001b[0mmessage\u001b[0m\u001b[0;34m,\u001b[0m \u001b[0m_sys\u001b[0m\u001b[0;34m.\u001b[0m\u001b[0mstderr\u001b[0m\u001b[0;34m)\u001b[0m\u001b[0;34m\u001b[0m\u001b[0m\n\u001b[0;32m-> 2376\u001b[0;31m         \u001b[0m_sys\u001b[0m\u001b[0;34m.\u001b[0m\u001b[0mexit\u001b[0m\u001b[0;34m(\u001b[0m\u001b[0mstatus\u001b[0m\u001b[0;34m)\u001b[0m\u001b[0;34m\u001b[0m\u001b[0m\n\u001b[0m\u001b[1;32m   2377\u001b[0m \u001b[0;34m\u001b[0m\u001b[0m\n\u001b[1;32m   2378\u001b[0m     \u001b[0;32mdef\u001b[0m \u001b[0merror\u001b[0m\u001b[0;34m(\u001b[0m\u001b[0mself\u001b[0m\u001b[0;34m,\u001b[0m \u001b[0mmessage\u001b[0m\u001b[0;34m)\u001b[0m\u001b[0;34m:\u001b[0m\u001b[0;34m\u001b[0m\u001b[0m\n",
      "\u001b[0;31mSystemExit\u001b[0m: 2"
     ]
    }
   ],
   "source": [
    "%tb"
   ]
  },
  {
   "cell_type": "code",
   "execution_count": 101,
   "metadata": {},
   "outputs": [],
   "source": [
    "conn = MavlinkConnection('tcp:127.0.0.1:5760', timeout=60)"
   ]
  },
  {
   "cell_type": "code",
   "execution_count": 102,
   "metadata": {},
   "outputs": [
    {
     "name": "stdout",
     "output_type": "stream",
     "text": [
      "Logs/TLog.txt\n"
     ]
    }
   ],
   "source": [
    "drone = MotionPlanning(conn)"
   ]
  },
  {
   "cell_type": "code",
   "execution_count": 103,
   "metadata": {},
   "outputs": [],
   "source": [
    "time.sleep(1)"
   ]
  },
  {
   "cell_type": "code",
   "execution_count": 104,
   "metadata": {},
   "outputs": [
    {
     "name": "stdout",
     "output_type": "stream",
     "text": [
      "Logs/NavLog.txt\n",
      "starting connection\n",
      "arming transition\n",
      "Searching for a path ...\n",
      "global home [-122.39745   37.79248    0.     ], position [-1.22397450e+02  3.77924801e+01  2.00000000e-03], local position [ 0.02060078 -0.03440985 -0.00219201]\n",
      "North offset = -316, east offset = -445\n"
     ]
    },
    {
     "name": "stderr",
     "output_type": "stream",
     "text": [
      "Traceback (most recent call last):\n",
      "  File \"/Users/anantakumarroy/miniconda3/envs/fcnd/lib/python3.6/site-packages/udacidrone/drone.py\", line 414, in set_home_position\n",
      "    self.connection.set_home_position(latitude, longitude, altitude)\n",
      "  File \"/Users/anantakumarroy/miniconda3/envs/fcnd/lib/python3.6/site-packages/udacidrone/connection/mavlink_connection.py\", line 378, in set_home_position\n",
      "    self.send_long_command(mavutil.mavlink.MAV_CMD_DO_SET_HOME, 0, 0, 0, 0, lat, lon, alt)\n",
      "  File \"/Users/anantakumarroy/miniconda3/envs/fcnd/lib/python3.6/site-packages/udacidrone/connection/mavlink_connection.py\", line 279, in send_long_command\n",
      "    self.send_message(msg)\n",
      "  File \"/Users/anantakumarroy/miniconda3/envs/fcnd/lib/python3.6/site-packages/udacidrone/connection/mavlink_connection.py\", line 260, in send_message\n",
      "    self._master.mav.send(msg)\n",
      "  File \"/Users/anantakumarroy/miniconda3/envs/fcnd/lib/python3.6/site-packages/pymavlink/dialects/v20/ardupilotmega.py\", line 10661, in send\n",
      "    buf = mavmsg.pack(self, force_mavlink1=force_mavlink1)\n",
      "  File \"/Users/anantakumarroy/miniconda3/envs/fcnd/lib/python3.6/site-packages/pymavlink/dialects/v20/ardupilotmega.py\", line 7205, in pack\n",
      "    return MAVLink_message.pack(self, mav, 152, struct.pack('<fffffffHBBB', self.param1, self.param2, self.param3, self.param4, self.param5, self.param6, self.param7, self.command, self.target_system, self.target_component, self.confirmation), force_mavlink1=force_mavlink1)\n",
      "struct.error: required argument is not a float\n",
      "Traceback (most recent call last):\n",
      "  File \"/Users/anantakumarroy/miniconda3/envs/fcnd/lib/python3.6/site-packages/udacidrone/drone.py\", line 277, in notify_callbacks\n",
      "    fn()\n",
      "  File \"<ipython-input-95-e41c7189c9e5>\", line 43, in state_callback\n",
      "    self.plan_path()\n",
      "  File \"<ipython-input-95-e41c7189c9e5>\", line 180, in plan_path\n",
      "    self.local_position[1] + np.random.uniform(-randomNum, randomNum), 0], global_home)\n",
      "  File \"/Users/anantakumarroy/miniconda3/envs/fcnd/lib/python3.6/site-packages/udacidrone/frame_utils.py\", line 30, in local_to_global\n",
      "    (east_home, north_home, zone_number, zone_letter) = utm.from_latlon(global_home[1], global_home[0])\n",
      "TypeError: 'NoneType' object is not subscriptable\n"
     ]
    },
    {
     "name": "stdout",
     "output_type": "stream",
     "text": [
      "takeoff transition\n",
      "waypoint transition\n"
     ]
    },
    {
     "name": "stderr",
     "output_type": "stream",
     "text": [
      "Traceback (most recent call last):\n",
      "  File \"/Users/anantakumarroy/miniconda3/envs/fcnd/lib/python3.6/site-packages/udacidrone/drone.py\", line 277, in notify_callbacks\n",
      "    fn()\n",
      "  File \"<ipython-input-95-e41c7189c9e5>\", line 22, in local_position_callback\n",
      "    self.waypoint_transition()\n",
      "  File \"<ipython-input-95-e41c7189c9e5>\", line 64, in waypoint_transition\n",
      "    self.target_position = self.waypoints.pop(0)\n",
      "IndexError: pop from empty list\n"
     ]
    },
    {
     "name": "stdout",
     "output_type": "stream",
     "text": [
      "landing transition\n",
      "disarm transition\n",
      "manual transition\n",
      "Closing connection ...\n"
     ]
    }
   ],
   "source": [
    "drone.start()"
   ]
  },
  {
   "cell_type": "code",
   "execution_count": null,
   "metadata": {},
   "outputs": [],
   "source": []
  },
  {
   "cell_type": "code",
   "execution_count": null,
   "metadata": {},
   "outputs": [],
   "source": [
    "\n"
   ]
  },
  {
   "cell_type": "code",
   "execution_count": null,
   "metadata": {},
   "outputs": [],
   "source": []
  }
 ],
 "metadata": {
  "kernelspec": {
   "display_name": "Python 3",
   "language": "python",
   "name": "python3"
  },
  "language_info": {
   "codemirror_mode": {
    "name": "ipython",
    "version": 3
   },
   "file_extension": ".py",
   "mimetype": "text/x-python",
   "name": "python",
   "nbconvert_exporter": "python",
   "pygments_lexer": "ipython3",
   "version": "3.6.3"
  }
 },
 "nbformat": 4,
 "nbformat_minor": 2
}
